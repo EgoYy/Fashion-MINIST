{
 "cells": [
  {
   "cell_type": "markdown",
   "metadata": {},
   "source": [
    "# COMP5318 - Machine Learning and Data Mining: Assignment 1\n",
    "<div style=\"text-align: right\"> Due: Wed 21 Oct 2020 11:59PM </div>"
   ]
  },
  {
   "cell_type": "markdown",
   "metadata": {
    "nbpresent": {
     "id": "375753da-1c6c-4b02-986a-6e3b185a5869"
    }
   },
   "source": [
    "# Summary\n",
    "The goal of this assignment is to build a classifier to classify some grayscale images of the size 28x28 into a set of categories. The dimension of the original data is large, so you need to be smart on which method you gonna use and perhaps perform a pre-processing step to reduce the amount of computation. Part of your marks will be a function of the performance of your classifier on the test set.\n",
    "这项作业的目标是建立一个分类器，将一些28x28大小的灰度图像分类到一组类别中。原始数据的维数很大，因此您需要知道使用哪种方法，并可能执行预处理步骤以减少计算量。你的分数的一部分将取决于你的分类器在测试集中的性能。"
   ]
  },
  {
   "cell_type": "markdown",
   "metadata": {},
   "source": [
    "## Dataset description\n",
    "The dataset can be downloaded from Canvas. The dataset consists of a training set of 30,000 examples and a test set of 5,000 examples. They belong to 10 different categories. The validation set is not provided, but you can randomly pick a subset of the training set for validation. The labels of the first 2,000 test examples are given, you will analyse the performance of your proposed method by exploiting the 2,000 test examples. It is NOT allowed to use any examples from the test set for training; or it will be considered as cheating. The rest 3,000 labels of the test set are reserved for marking purpose. <br />\n",
    "Here are examples illustrating sample of the dataset (each class takes one row):\n",
    "\n",
    "数据集可以从Canvas下载。该数据集包括30000个样本的训练集和5000个样本的测试集。它们属于10个不同的类别。不提供验证集，但您可以随机选取训练集的子集进行验证。给出了前2000个测试示例的标签，您将通过使用2000个测试示例来分析所提出方法的性能。不允许使用测试集中的任何例子进行训练，否则将被视为作弊。剩下的3000个测试集标签是为标记而保留的。\n",
    "以下示例说明了数据集的示例（每个类取一行）：\n"
   ]
  },
  {
   "cell_type": "markdown",
   "metadata": {},
   "source": [
    "<img src=\"Dataset_image.jpg\" alt=\"DataSet\" title=\"DataSet\" width=\"450\" height=\"300\" />"
   ]
  },
  {
   "cell_type": "markdown",
   "metadata": {},
   "source": [
    "There are 10 classes in total:<br />\n",
    "0 T-shirt/Top<br />\n",
    "1 Trouser<br />\n",
    "2 Pullover<br />\n",
    "3 Dress<br />\n",
    "4 Coat<br />\n",
    "5 Sandal<br />\n",
    "6 Shirt<br />\n",
    "7 Sneaker<br />\n",
    "8 Bag<br />\n",
    "9 Ankle boot <br />\n",
    "\n",
    "0 T恤/上衣\n",
    "1条裤子\n",
    "2件套头衫\n",
    "3连衣裙\n",
    "4层\n",
    "5凉鞋\n",
    "6件衬衫\n",
    "7运动鞋\n",
    "8袋\n",
    "9踝关节boo"
   ]
  },
  {
   "cell_type": "markdown",
   "metadata": {},
   "source": [
    "### How to load the data\n",
    "There is a Input folder including 4 main files (which can be downloaded from Canvas):\n",
    "    1. images_training.h5 (30000 samples for training)\n",
    "    2. labels_training.h5\n",
    "    3. images_testing.h5 (5000 samples for testing)\n",
    "    4. labels_testing_2000.h5"
   ]
  },
  {
   "cell_type": "markdown",
   "metadata": {},
   "source": [
    "To read the hdf5 file and load the data into a numpy array, assuming the **training data files are in the ./Input/train** and **testing data file are in ./Input/test**. <br /> Use the following code:"
   ]
  },
  {
   "cell_type": "markdown",
   "metadata": {},
   "source": [
    "Then data would be a numpy array of the shape (30000, 784), and\n",
    "label would be a numpy array of the shape (30000, ). It is noted that the labels_testing_2000 only contain 2000 samples for your testing and fine-tuning parameters. We will evaluate your model on full 5000 samples which is not provided.  \n",
    "The file images_testing.h5 can be loaded in a similar way.\n",
    "\n",
    "然后数据将是一个numpy形状数组（30000784），并且\n",
    "标签将是一个numpy数组的形状（30000，）。需要注意的是，标签_testing_2000仅包含用于测试和微调参数的2000个样本。我们将根据未提供的全部5000个样品对你方模型进行评估。\n",
    "文件images_testing.h5可以以类似的方式加载。"
   ]
  },
  {
   "cell_type": "code",
   "execution_count": 1,
   "metadata": {},
   "outputs": [
    {
     "name": "stdout",
     "output_type": "stream",
     "text": [
      "['images_training.h5', 'labels_training.h5']\n"
     ]
    }
   ],
   "source": [
    "import h5py\n",
    "import numpy as np\n",
    "import os\n",
    "import matplotlib.pyplot as plt\n",
    "import scipy\n",
    "import time\n",
    "print(os.listdir(\"./Input/train\"))"
   ]
  },
  {
   "cell_type": "code",
   "execution_count": 2,
   "metadata": {},
   "outputs": [
    {
     "name": "stdout",
     "output_type": "stream",
     "text": [
      "(30000, 28, 28) (30000,)\n"
     ]
    }
   ],
   "source": [
    "# 加载训练集数据\n",
    "with h5py.File('./Input/train/images_training.h5','r') as H:\n",
    "    data_train = np.copy(H['datatrain'])\n",
    "    data_train = np.array([x/np.amax(x) for x in data_train])\n",
    "\n",
    "with h5py.File('./Input/train/labels_training.h5','r') as H:\n",
    "    label_train = np.copy(H['labeltrain'])\n",
    "    \n",
    "# reshape\n",
    "data_train_28_28 = data_train.reshape(data_train.shape[0], 28, 28)\n",
    "\n",
    "print(data_train_28_28.shape,label_train.shape)"
   ]
  },
  {
   "cell_type": "code",
   "execution_count": 3,
   "metadata": {},
   "outputs": [
    {
     "name": "stdout",
     "output_type": "stream",
     "text": [
      "(5000, 28, 28) (2000,)\n"
     ]
    }
   ],
   "source": [
    "# 加载测试集数据\n",
    "# using H['datatest'], H['labeltest'] for test dataset.\n",
    "with h5py.File('./Input/test/images_testing.h5','r') as H:\n",
    "    data_test = np.copy(H['datatest'])\n",
    "    data_test = np.array([x/np.amax(x) for x in data_test])\n",
    "    \n",
    "with h5py.File('./Input/test/labels_testing_2000.h5','r') as H:\n",
    "    label_test = np.copy(H['labeltest'])\n",
    "    \n",
    "# reshape\n",
    "data_test_28_28 = data_test.reshape(data_test.shape[0], 28, 28)\n",
    "\n",
    "print(data_test_28_28.shape,label_test.shape)"
   ]
  },
  {
   "cell_type": "markdown",
   "metadata": {},
   "source": [
    "Showing a sample data. The first example belongs to class 0: T-Shirt/Top"
   ]
  },
  {
   "cell_type": "code",
   "execution_count": 4,
   "metadata": {},
   "outputs": [
    {
     "data": {
      "image/png": "[encoded data removed]",
      "text/plain": [
       "<Figure size 432x288 with 1 Axes>"
      ]
     },
     "metadata": {
      "needs_background": "light"
     },
     "output_type": "display_data"
    }
   ],
   "source": [
    "plt.imshow(data_train_28_28[0], cmap=plt.get_cmap('gray'))\n",
    "plt.title(\"class \" + str(label_train[0]) + \": T-shirt/Top\" )\n",
    "plt.show()"
   ]
  },
  {
   "cell_type": "markdown",
   "metadata": {},
   "source": [
    "# 1 pre-processing step"
   ]
  },
  {
   "cell_type": "markdown",
   "metadata": {},
   "source": [
    "## 1.1 Singular Value Decomposition "
   ]
  },
  {
   "cell_type": "code",
   "execution_count": 5,
   "metadata": {},
   "outputs": [],
   "source": [
    "def SVD(sval_nums, data):\n",
    "    u, s, vh = np.linalg.svd(data)\n",
    "    data_svd = np.array([u[i][:,:sval_nums] @ np.diag(s[i][:sval_nums]) @ vh[i][:sval_nums:,] for i in range(s.shape[0])])\n",
    "    return data_svd\n"
   ]
  },
  {
   "cell_type": "code",
   "execution_count": null,
   "metadata": {},
   "outputs": [],
   "source": [
    "data_train_svd = SVD(10, data_train_28_28)\n",
    "data_test_svd = SVD(10, data_test_28_28)\n",
    "plt.imshow(data_train_svd[0], cmap=plt.get_cmap('gray'))\n",
    "plt.title(\"class \" + str(label_train[0]) + \": T-shirt/Top\" )\n",
    "plt.show()"
   ]
  },
  {
   "cell_type": "markdown",
   "metadata": {},
   "source": [
    "## 1.2 Principal Component Analysis"
   ]
  },
  {
   "cell_type": "code",
   "execution_count": 6,
   "metadata": {},
   "outputs": [],
   "source": [
    "def pca(data, percentage):    \n",
    "    eigenValues = np.mean(data, axis=0)  # 对每一列求平均值，因为协方差的计算中需要减去均值\n",
    "    zeroCentred_data = data-eigenValues\n",
    "    cov_data = np.cov(zeroCentred_data.T)  \n",
    "    eigenValues, eigenVectors = np.linalg.eig(cov_data)  # 利用numpy中寻找特征值和特征向量的模块linalg中的eig()方法\n",
    "      \n",
    "    sortEigVals = np.sort(eigenValues) \n",
    "    sortEigVals = sortEigVals[-1::-1] \n",
    "    eigValsSum = sum(sortEigVals) \n",
    "    eigValSum = 0\n",
    "    n = 0\n",
    "    for i in sortEigVals:\n",
    "        eigValSum = eigValSum + i\n",
    "        n = n + 1\n",
    "        if eigValSum >= eigValsSum * percentage:\n",
    "            break\n",
    "\n",
    "    eigenVectors = eigenVectors[:,np.argsort(-eigenValues)][:,:n] # sort eigenvectors by descending order on eigenvalues\n",
    "    eigenValues = -np.sort(-eigenValues)[:n] # sort eigenvalues by descending order\n",
    "    data_pca = eigenVectors.T @ zeroCentred_data.T\n",
    "    data_pca = data_pca.T\n",
    "    return data_pca, eigenVectors            \n",
    "            "
   ]
  },
  {
   "cell_type": "code",
   "execution_count": 12,
   "metadata": {},
   "outputs": [
    {
     "name": "stdout",
     "output_type": "stream",
     "text": [
      "(30000, 84)\n",
      "(5000, 84)\n",
      "CPU times: user 1.49 s, sys: 160 ms, total: 1.65 s\n",
      "Wall time: 970 ms\n"
     ]
    }
   ],
   "source": [
    "%%time\n",
    "data_train_pca, eigenVectors= pca(data_train, percentage=0.9)\n",
    "data_test_pca = (eigenVectors.T @ (data_test - np.mean(data_test, axis=0)).T).T\n",
    "print(data_train_pca.shape)\n",
    "print(data_test_pca.shape)"
   ]
  },
  {
   "cell_type": "markdown",
   "metadata": {},
   "source": [
    "## 1.3 K-fold Cross Validation"
   ]
  },
  {
   "cell_type": "code",
   "execution_count": 8,
   "metadata": {},
   "outputs": [],
   "source": [
    "def kfold(n, kf):\n",
    "    arr = np.arange(n)\n",
    "    np.random.shuffle(arr)\n",
    "    indexs = np.array([arr[i::kf] for i in range(kf)])\n",
    "    return indexs"
   ]
  },
  {
   "cell_type": "markdown",
   "metadata": {},
   "source": [
    "# 2 Classifier "
   ]
  },
  {
   "cell_type": "markdown",
   "metadata": {},
   "source": [
    "## 2.1 KNN "
   ]
  },
  {
   "cell_type": "markdown",
   "metadata": {},
   "source": [
    "## 2.1.1KNN Classifier"
   ]
  },
  {
   "cell_type": "code",
   "execution_count": 9,
   "metadata": {},
   "outputs": [],
   "source": [
    "def Knn(trainData, testData, trainLabel, testLabel, k):\n",
    "    predict_labels = []\n",
    "    for i in range(testData.shape[0]):\n",
    "        distance = []\n",
    "        distance = (np.square(testData[i] - trainData)).sum(axis=1)\n",
    "        index = np.argsort(distance)\n",
    "        \n",
    "        labels = []\n",
    "        for nearest_index in range(k):\n",
    "            label = trainLabel[index[nearest_index]]\n",
    "            labels.append(label)\n",
    "        predict_label = max(labels, key=labels.count)\n",
    "        predict_labels.append(predict_label)       \n",
    "\n",
    "    T = 0\n",
    "    for i in range(testLabel.shape[0]):\n",
    "        if predict_labels[i] == testLabel[i]:\n",
    "            T = T + 1\n",
    "    accuracy = T / (testLabel.shape[0])\n",
    "    return accuracy"
   ]
  },
  {
   "cell_type": "markdown",
   "metadata": {},
   "source": [
    "## 2.1.2.1  原数据 30000 = 25000+ 5000 查找最好的k"
   ]
  },
  {
   "cell_type": "code",
   "execution_count": 11,
   "metadata": {},
   "outputs": [
    {
     "name": "stdout",
     "output_type": "stream",
     "text": [
      "[0.8506, 0.8534, 0.8498, 0.849, 0.8488, 0.8462, 0.8464, 0.8476, 0.8442, 0.8482, 0.8462]\n"
     ]
    },
    {
     "data": {
      "image/png": "[encoded data removed]",
      "text/plain": [
       "<Figure size 432x288 with 1 Axes>"
      ]
     },
     "metadata": {
      "needs_background": "light"
     },
     "output_type": "display_data"
    },
    {
     "name": "stdout",
     "output_type": "stream",
     "text": [
      "CPU times: user 1h 7min 6s, sys: 9min, total: 1h 16min 6s\n",
      "Wall time: 38min 45s\n"
     ]
    }
   ],
   "source": [
    "%%time\n",
    "data_train_25000 = data_train[0:25000]\n",
    "data_train_5000  = data_train[25000:]\n",
    "label_train_25000 = label_train[0:25000]\n",
    "label_train_5000  = label_train[25000:]\n",
    "\n",
    "knn_train_accuracy = []\n",
    "for k in range(5,16):\n",
    "    accuracy = Knn(data_train_25000, data_train_5000, label_train_25000, label_train_5000, k=k)\n",
    "    knn_train_accuracy.append(accuracy)\n",
    "print(knn_train_accuracy)\n",
    "\n",
    "x_data = np.arange(5,16)\n",
    "y_data = knn_train_accuracy\n",
    "plt.plot(x_data,y_data)\n",
    "plt.xlabel('k')\n",
    "plt.ylabel('accuracy')\n",
    "plt.title(\"knn_train_accuracy\")\n",
    "plt.show()"
   ]
  },
  {
   "cell_type": "markdown",
   "metadata": {},
   "source": [
    "## 2.1.2.1  pca0.9 30000 = 25000+ 5000 查找最好的k"
   ]
  },
  {
   "cell_type": "code",
   "execution_count": 14,
   "metadata": {},
   "outputs": [
    {
     "name": "stdout",
     "output_type": "stream",
     "text": [
      "[0.8588, 0.8596, 0.859, 0.8592, 0.8596, 0.8592, 0.858, 0.8588, 0.8578, 0.8572, 0.8558]\n"
     ]
    },
    {
     "data": {
      "image/png": "[encoded data removed]",
      "text/plain": [
       "<Figure size 432x288 with 1 Axes>"
      ]
     },
     "metadata": {
      "needs_background": "light"
     },
     "output_type": "display_data"
    },
    {
     "name": "stdout",
     "output_type": "stream",
     "text": [
      "CPU times: user 14min 45s, sys: 1min 50s, total: 16min 35s\n",
      "Wall time: 8min 31s\n"
     ]
    }
   ],
   "source": [
    "%%time\n",
    "data_train_pca, eigenVectors= pca(data_train, percentage=0.9)\n",
    "\n",
    "data_train_pca_25000 = data_train_pca[0:25000]\n",
    "data_train_pca_5000  = data_train_pca[25000:]\n",
    "label_train_25000 = label_train[0:25000]\n",
    "label_train_5000  = label_train[25000:]\n",
    "\n",
    "knn_train_pca_accuracy = []\n",
    "for k in range(5,16):\n",
    "    accuracy = Knn(data_train_pca_25000, data_train_pca_5000, label_train_25000, label_train_5000, k=k)\n",
    "    knn_train_pca_accuracy.append(accuracy)\n",
    "print(knn_train_pca_accuracy)\n",
    "\n",
    "x_data = np.arange(5,16)\n",
    "y_data = knn_train_pca_accuracy\n",
    "plt.plot(x_data,y_data)\n",
    "plt.xlabel('k')\n",
    "plt.ylabel('accuracy')\n",
    "plt.title(\"knn_train_pca_accuracy\")\n",
    "plt.show()"
   ]
  },
  {
   "cell_type": "markdown",
   "metadata": {},
   "source": [
    "由于不具有代表性 所以我们用k-folds\n",
    "### 2.1.2.1 PCA 0.9 +k-folds + Knn"
   ]
  },
  {
   "cell_type": "code",
   "execution_count": 42,
   "metadata": {},
   "outputs": [
    {
     "name": "stdout",
     "output_type": "stream",
     "text": [
      "[0.8546, 0.8555, 0.8539, 0.8549, 0.8546, 0.855, 0.8539, 0.8535]\n"
     ]
    },
    {
     "data": {
      "image/png": "[encoded data removed]",
      "text/plain": [
       "<Figure size 432x288 with 1 Axes>"
      ]
     },
     "metadata": {
      "needs_background": "light"
     },
     "output_type": "display_data"
    }
   ],
   "source": [
    "data_train_pca, eigenVectors= pca(data_train, percentage=0.9)\n",
    "indexs = kfold(data_train_pca.shape[0], kf=5)\n",
    "knn_kf_pca_accuracy = []\n",
    "for k in range(5,13):\n",
    "    k_sum_acc = 0\n",
    "    for f in range(5):\n",
    "        index_test_kf = indexs[f]\n",
    "        data_test_kf = data_train_pca[index_test_kf]\n",
    "        label_test_kf = label_train[index_test_kf]\n",
    "\n",
    "        index_train_kf = np.hstack(np.delete(indexs, f, 0))\n",
    "        data_train_kf = data_train_pca[index_train_kf]\n",
    "        label_train_kf = label_train[index_train_kf]\n",
    "\n",
    "        accuracy = Knn(data_train_kf, data_test_kf, label_train_kf, label_test_kf, k)\n",
    "        k_sum_acc = k_sum_acc + accuracy\n",
    "    k_avg_acc = np.around(k_sum_acc/5, 4)\n",
    "    \n",
    "    knn_kf_pca_accuracy.append(k_avg_acc)\n",
    "print(knn_kf_pca_accuracy)\n",
    "\n",
    "x_data = np.arange(5,13)\n",
    "y_data = knn_kf_pca_accuracy\n",
    "plt.plot(x_data,y_data)\n",
    "plt.xlabel('k')\n",
    "plt.ylabel('accuracy')\n",
    "plt.title(\"knn_kf_pca_accuracy\")\n",
    "plt.show()"
   ]
  },
  {
   "cell_type": "markdown",
   "metadata": {},
   "source": [
    "## 2.1.2 验证 3w+2000"
   ]
  },
  {
   "cell_type": "markdown",
   "metadata": {},
   "source": [
    "### 2.1.2.4  Knn"
   ]
  },
  {
   "cell_type": "markdown",
   "metadata": {},
   "source": [
    "### 2.1.3.1 PCA 0.9 + K=6"
   ]
  },
  {
   "cell_type": "code",
   "execution_count": 43,
   "metadata": {},
   "outputs": [
    {
     "name": "stdout",
     "output_type": "stream",
     "text": [
      "0.8415\n",
      "CPU times: user 42.3 s, sys: 5.29 s, total: 47.6 s\n",
      "Wall time: 25.8 s\n"
     ]
    }
   ],
   "source": [
    "%%time\n",
    "data_train_pca, eigenVectors= pca(data_train, percentage=0.9)\n",
    "data_test_pca = (eigenVectors.T @ (data_test - np.mean(data_test, axis=0)).T).T\n",
    "accuracy = Knn(data_train_pca, data_test_pca[0:2000], label_train, label_test[0:2000], k=6)\n",
    "print(accuracy)"
   ]
  },
  {
   "cell_type": "markdown",
   "metadata": {},
   "source": [
    "### 2.1.3.2 SVD + K=6"
   ]
  },
  {
   "cell_type": "code",
   "execution_count": 50,
   "metadata": {},
   "outputs": [
    {
     "name": "stdout",
     "output_type": "stream",
     "text": [
      "0.8335\n",
      "CPU times: user 3min 5s, sys: 22.6 s, total: 3min 28s\n",
      "Wall time: 1min 54s\n"
     ]
    }
   ],
   "source": [
    "%%time\n",
    "data_train_svd = SVD(10, data_train_28_28)\n",
    "data_test_svd = SVD(10, data_test_28_28)\n",
    "accuracy = Knn(data_train_svd.reshape(data_train_svd.shape[0],data_train_svd.shape[1]**2),\n",
    "                data_test_svd.reshape(data_test_svd.shape[0],data_test_svd.shape[1]**2)[0:2000], \n",
    "                label_train, label_test[0:2000], k=6)\n",
    "print(accuracy)"
   ]
  },
  {
   "cell_type": "markdown",
   "metadata": {},
   "source": [
    "### 2.1.3.2 PCA 0.9 + SVD + K=6"
   ]
  },
  {
   "cell_type": "code",
   "execution_count": 140,
   "metadata": {},
   "outputs": [
    {
     "name": "stdout",
     "output_type": "stream",
     "text": [
      "CPU times: user 48.5 s, sys: 7.46 s, total: 56 s\n",
      "Wall time: 33.3 s\n"
     ]
    }
   ],
   "source": [
    "%%time\n",
    "data_train_svd = SVD(10, data_train_28_28)\n",
    "data_test_svd = SVD(10, data_test_28_28)\n",
    "data_train_svd_pca, eigenVectors= pca(data_train_svd.reshape(data_train_svd.shape[0],data_train_svd.shape[1]**2), percentage=0.9)\n",
    "data_test_svd_pca = (eigenVectors.T @ ((data_test_svd.reshape(data_test_svd.shape[0],data_test_svd.shape[1]**2)[0:2000]) \n",
    "                                   - np.mean((data_test_svd.reshape(data_test_svd.shape[0],data_test_svd.shape[1]**2)[0:2000]), axis=0)).T).T\n",
    "\n",
    "accuracy = Knn(data_train_svd_pca, data_test_svd_pca[0:2000], label_train, label_test[0:2000], k=6)\n",
    "accuracy"
   ]
  },
  {
   "cell_type": "markdown",
   "metadata": {},
   "source": [
    "## 2.2 NavitBayes"
   ]
  },
  {
   "cell_type": "code",
   "execution_count": 113,
   "metadata": {},
   "outputs": [],
   "source": [
    "def NavitBayes(data_train_bayes, label_train, data_test_bayes, label_test):\n",
    "\n",
    "    priorProbability = {}\n",
    "    likelihood = {} \n",
    "    eigenValues = {}  \n",
    "    \n",
    "    data_number, feature_num = data_train_bayes.shape\n",
    "    # 计算每个类别可能的取值以及每个类别样本个数\n",
    "    Ck, Ck_number = np.unique(label_train, return_counts=True)\n",
    "    Ck_counter = dict(zip(Ck, Ck_number))\n",
    "    for label, label_number in Ck_counter.items():\n",
    "        # 计算先验概率，做了拉普拉斯平滑处理\n",
    "        priorProbability[label] = (label_number + 1) / (data_number + Ck.shape[0])\n",
    "\n",
    "    # 记录每个类别样本对应的索引\n",
    "    Ck_index = []\n",
    "    for label in Ck:\n",
    "        label_index = np.squeeze(np.argwhere(label_train == label))\n",
    "        Ck_index.append(label_index)\n",
    "\n",
    "    # 遍历每个类别\n",
    "    for label, index in zip(Ck, Ck_index):\n",
    "        data_n = data_train_bayes[index]\n",
    "        # 记录该类别所有特征对应的概率\n",
    "        label_likelihood = {}\n",
    "        # 遍历每个特征\n",
    "        for i in range(feature_num):\n",
    "            # 记录该特征每个取值对应的概率\n",
    "            featureValProb = {}\n",
    "            # 获取该列特征可能的取值和每个取值出现的次数\n",
    "            feature_val, feature_cnt = np.unique(data_n[:, i], return_counts=True)\n",
    "            eigenValues[i] = feature_val.shape[0]\n",
    "            feature_counter = dict(zip(feature_val, feature_cnt))\n",
    "            for featureVal, count in feature_counter.items():\n",
    "                # 计算该列特征每个取值的概率，做了拉普拉斯平滑\n",
    "                featureValProb[featureVal] = (count + 1) / (Ck_counter[label] + eigenValues[i])\n",
    "            label_likelihood[i] = featureValProb\n",
    "        likelihood[label] = label_likelihood\n",
    "\n",
    "    # Test 预测\n",
    "    label_predicts = []\n",
    "    for n in range(data_test_bayes.shape[0]):\n",
    "        postProbability = {}\n",
    "        # 遍历每个类别计算后验概率\n",
    "        for label, label_likelihood in likelihood.items():\n",
    "            probability = np.log(priorProbability[label])\n",
    "            # 遍历样本每一维特征\n",
    "            for i, featureVal in enumerate(data_test_bayes[n]):\n",
    "                featureValProb = label_likelihood[i]\n",
    "\n",
    "                # 如果该特征值出现在训练集中则直接获取概率\n",
    "                if featureVal in featureValProb:\n",
    "                    probability += np.log(featureValProb[featureVal])\n",
    "                else:\n",
    "                    # 如果该特征没有出现在训练集中则采用拉普拉斯平滑计算概率\n",
    "                    laplace_prob = 1 / (Ck_counter[label] + eigenValues[i])\n",
    "                    probability = probability + np.log(laplace_prob)\n",
    "            postProbability[label] = probability\n",
    "        probabilities = list(postProbability.items())\n",
    "        probabilities.sort(key=lambda v: v[1], reverse=True)\n",
    "        label_predict = probabilities[0][0]\n",
    "        label_predicts.append(label_predict)\n",
    "\n",
    "    # ACC\n",
    "    T = 0\n",
    "    for i in range(data_test_bayes.shape[0]):\n",
    "        if label_predicts[i] == label_test[i]:\n",
    "            T = T + 1\n",
    "    accuracy = T / (data_test_bayes.shape[0])\n",
    "    return accuracy, label_predicts\n"
   ]
  },
  {
   "cell_type": "code",
   "execution_count": 114,
   "metadata": {},
   "outputs": [
    {
     "name": "stdout",
     "output_type": "stream",
     "text": [
      "(30000, 84)\n",
      "(5000, 84)\n",
      "CPU times: user 1.54 s, sys: 295 ms, total: 1.84 s\n",
      "Wall time: 1.29 s\n"
     ]
    }
   ],
   "source": [
    "%%time\n",
    "data_train_pca, eigenVectors= pca(data_train, percentage=0.9)\n",
    "data_test_pca = (eigenVectors.T @ (data_test - np.mean(data_test, axis=0)).T).T\n",
    "print(data_train_pca.shape)\n",
    "print(data_test_pca.shape)"
   ]
  },
  {
   "cell_type": "code",
   "execution_count": 116,
   "metadata": {},
   "outputs": [
    {
     "name": "stdout",
     "output_type": "stream",
     "text": [
      "0.712\n",
      "CPU times: user 35.2 s, sys: 385 ms, total: 35.5 s\n",
      "Wall time: 36.5 s\n"
     ]
    }
   ],
   "source": [
    "%%time\n",
    "data_train_bayes = data_train\n",
    "data_test_bayes = data_test[0:2000]\n",
    "accuracy, label_predicts = NavitBayes(data_train_bayes, label_train, data_test_bayes, label_test)\n",
    "print(accuracy)"
   ]
  },
  {
   "cell_type": "markdown",
   "metadata": {},
   "source": [
    "## 2.2 softmax"
   ]
  },
  {
   "cell_type": "code",
   "execution_count": 136,
   "metadata": {},
   "outputs": [],
   "source": [
    "def softmax(data_train, label_train, data_test, label_test, learning_step = 0.001, max_iteration = 1000,  weight_lambda = 0.001):\n",
    "    k = len(set(label_train))\n",
    "    w = np.zeros((len(set(label_train)), len(data_train[0])+1))\n",
    "    time = 0\n",
    "\n",
    "    while time < max_iteration:\n",
    "        time += 1\n",
    "        index = random.randint(0, len(label_train) - 1)\n",
    "        x = data_train[index]\n",
    "        y = label_train[index]\n",
    "\n",
    "        x = list(x)\n",
    "        x.append(1.0)\n",
    "        x = np.array(x)      \n",
    "        derivatives = []\n",
    "        for j in range(k):\n",
    "            molecule =  math.exp(np.dot(w[j],x))\n",
    "            denominator = sum([math.exp(np.dot(w[i],x)) for i in range(k)])\n",
    "\n",
    "            first = int(y==j)                           # 计算示性函数\n",
    "            second = molecule/denominator       # 计算后面那个概率 \n",
    "            \n",
    "            derivative = -x*(first-second) + weight_lambda*w[j]                              \n",
    "            derivatives.append(derivative)\n",
    "\n",
    "            w[j] -= learning_step * derivatives[j]   \n",
    "\n",
    "            \n",
    "    labels = []\n",
    "    for feature in data_test:\n",
    "        x = list(feature)\n",
    "        x.append(1)\n",
    "        x = np.matrix(x)\n",
    "        x = np.transpose(x)\n",
    "        result = np.dot(w,x)\n",
    "        row, column = result.shape\n",
    "\n",
    "        # 找最大值所在的列\n",
    "        _positon = np.argmax(result)\n",
    "        m, n = divmod(_positon, column)                       \n",
    "        labels.append(m)\n",
    "\n",
    "    T = 0\n",
    "    for i in range(len(labels)):\n",
    "        if labels[i] == label_test[i]:\n",
    "            T = T + 1\n",
    "    accuracy = T / (len(labels))            \n",
    "    return accuracy\n",
    "\n",
    "\n"
   ]
  },
  {
   "cell_type": "code",
   "execution_count": 137,
   "metadata": {},
   "outputs": [
    {
     "name": "stdout",
     "output_type": "stream",
     "text": [
      "0.7995\n",
      "CPU times: user 8.36 s, sys: 72.3 ms, total: 8.43 s\n",
      "Wall time: 8.31 s\n"
     ]
    }
   ],
   "source": [
    "%%time\n",
    "accruacy = softmax(data_train, label_train, data_test[0:2000], label_test, learning_step = 0.001, max_iteration = 20000,  weight_lambda = 0.001)\n",
    "print(accruacy)"
   ]
  },
  {
   "cell_type": "code",
   "execution_count": 138,
   "metadata": {},
   "outputs": [
    {
     "name": "stdout",
     "output_type": "stream",
     "text": [
      "0.7995\n",
      "CPU times: user 4.7 s, sys: 23.8 ms, total: 4.72 s\n",
      "Wall time: 4.63 s\n"
     ]
    }
   ],
   "source": [
    "%%time\n",
    "w = softmax(data_train_pca, label_train, data_test_pca[0:2000], label_test, learning_step = 0.001, max_iteration = 20000,  weight_lambda = 0.001)\n",
    "print(accruacy)"
   ]
  },
  {
   "cell_type": "code",
   "execution_count": null,
   "metadata": {},
   "outputs": [],
   "source": []
  },
  {
   "cell_type": "markdown",
   "metadata": {},
   "source": [
    "## 2.1.4 output "
   ]
  },
  {
   "cell_type": "code",
   "execution_count": 130,
   "metadata": {},
   "outputs": [
    {
     "name": "stdout",
     "output_type": "stream",
     "text": [
      "0.8415\n",
      "5000\n"
     ]
    }
   ],
   "source": [
    "def Knn(trainData, testData, trainLabel, testLabel, k):\n",
    "    predict_labels = []\n",
    "    for i in range(testData.shape[0]):\n",
    "        distance = []\n",
    "        distance = (np.square(testData[i] - trainData)).sum(axis=1)\n",
    "        index = np.argsort(distance)\n",
    "        \n",
    "        labels = []\n",
    "        for nearest_index in range(k):\n",
    "            label = trainLabel[index[nearest_index]]\n",
    "            labels.append(label)\n",
    "        predict_label = max(labels, key=labels.count)\n",
    "        predict_labels.append(predict_label)       \n",
    "\n",
    "    T = 0\n",
    "    for i in range(testLabel.shape[0]):\n",
    "        if predict_labels[i] == testLabel[i]:\n",
    "            T = T + 1\n",
    "    accuracy = T / (testLabel.shape[0])\n",
    "    return accuracy, predict_labels\n",
    "\n",
    "\n",
    "data_train_svd = SVD(10, data_train_28_28)\n",
    "data_test_svd = SVD(10, data_test_28_28)\n",
    "data_train_svd_pca_6, eigenVectors= pca(data_train_svd.reshape(data_train_svd.shape[0],data_train_svd.shape[1]**2), percentage=0.9)\n",
    "data_test_svd_pca_6 = (eigenVectors.T @ ((data_test_svd.reshape(data_test_svd.shape[0],data_test_svd.shape[1]**2)) \n",
    "                                   - np.mean((data_test_svd.reshape(data_test_svd.shape[0],data_test_svd.shape[1]**2)), axis=0)).T).T\n",
    "\n",
    "\n",
    "best_accurarcy_6, predict_labels= Knn(data_train_svd_pca_6, data_test_svd_pca_6, label_train, label_test, k=6)\n",
    "print(best_accurarcy_6)\n",
    "print(len(predict_labels))\n",
    "predict_label = np.asarray(predict_labels)\n",
    "# assume output is the predicted labels (5000,) \n",
    "with h5py.File('Output/predicted_labels.h5','w') as H:\n",
    "    H.create_dataset('Output',data=predict_label)"
   ]
  },
  {
   "cell_type": "code",
   "execution_count": null,
   "metadata": {},
   "outputs": [],
   "source": []
  },
  {
   "cell_type": "code",
   "execution_count": null,
   "metadata": {},
   "outputs": [],
   "source": []
  },
  {
   "cell_type": "markdown",
   "metadata": {},
   "source": [
    "### How to output the prediction\n",
    "Output a file “predicted_labels.h5” that can be loaded in the same way as above. You may use the following code to generate an output file that meets the requirement:"
   ]
  },
  {
   "cell_type": "markdown",
   "metadata": {
    "nbpresent": {
     "id": "aca7ed33-2da5-4fbf-a861-8a886f4020a8"
    }
   },
   "source": [
    "We will load the output file using the code for loading data above. It is your responsibility to make sure the output file can be correctly loaded using this code.\n",
    "The performance of your classifier will be evaluated in terms of the top-1 accuracy metric, i.e.<br /><br />\n",
    "<div style=\"text-align: center\"> $$\\text{Accuracy} = \\frac{\\text{Number of correct classifications}}{\\text{Total number of test examples used}} * 100\\%$$"
   ]
  },
  {
   "cell_type": "markdown",
   "metadata": {
    "nbpresent": {
     "id": "1e4a01db-cd92-48f8-bdaa-21c39456cfcb"
    }
   },
   "source": [
    "## Task description\n",
    "Your task is to determine / build a classifier for the given data set to classify images into categories and write a report. The score allocation is as follows:\n",
    "    * Classifier (code): max 60 points\n",
    "    * Report: max 35 points\n",
    "    * Others: max 5 points\n",
    "Please refer to the rubric in Canvas for detailed marking scheme. The report and the code are to be submitted in Canvas by the due date.<br />\n",
    "This assignment must be submitted in Python3. Although you are allowed to use external libraries for optimisation and linear algebraic calculations, you are NOT allowed to use external libraries for basic pre-processing or classification. For instance, you are allowed to use scipy.optimize for gradient descent or scipy.linalg.svd for matrix decomposition. However, you are NOT allowed to use sklearn.svm for classification (i.e. you have to implement the classifier yourself). If you have any ambiguity whether you can use a particular library or a function, please refer to Canvas -> Modules -> ”Assignment 1 FAQs” for clarification.\n",
    "有关详细的标记方案，请参阅画布上的评估准则。报告和代码将在截止日期前以画布形式提交。\n",
    "此作业必须用Python3提交。尽管允许使用外部库进行优化和线性代数计算，但不允许使用外部库进行基本预处理或分类。例如，您可以使用scipy.optimize公司梯度下降或scipy.linalg.svd公司用于矩阵分解。但是，您不能使用学习支持向量机对于分类（即，您必须自己实现分类器）。如果您不清楚是否可以使用特定的库或函数，请参考Canvas->Modules->“Assignment 1 faq”进行说明"
   ]
  },
  {
   "cell_type": "markdown",
   "metadata": {},
   "source": [
    "## Instructions to hand in the assignment\n",
    "### Go to Canvas -> Assignments -> \"Assignment 1\" and submit 3 files only: the report and the code file.\n",
    "1) Report (a .pdf file): The report should include each member’s details (student IDs and names)<br />\n",
    "2) Code (2 files include: a .ipynb file and a PDF file): The code must be able to be run with the following folder structure:\n",
    "    - Algorithm (the root folder): Your .ipynb file containing Python code will be placed on this folder when we test and run your code. The PDF file is generated from .ipynb file (File => Save as PDF file)\n",
    "    - Input (a sub-folder under Algorithm): We will copy the test dataset into this Input folder when we test and run your code. Please make sure your code is able to read the test dataset from this Input folder.\n",
    "    - Output (a sub-folder under Algorithm): Your code must be able to generate a prediction file named “predicted_labels.h5” to be saved in this Output folder. The prediction file should contain predicted labels of the test dataset. We will use your prediction output file for grading purpose.\n",
    "\n",
    "Since this is a individual work, each student needs to submit all the files which must be named with student ID numbers following format e.g. “SIDxxxx_report.pdf”,  “SIDxxxx_code.ipynb”, \"SIDxxxx_code.ipynb.pdf\".\n",
    "\n",
    "\n",
    "1） 报告（pdf文件）：报告应包括每个成员的详细信息（学生ID和姓名）\n",
    "2） 代码（2个文件包括：一个.ipynb文件和一个PDF文件）：代码必须能够使用以下文件夹结构运行：\n",
    "-Algorithm（根文件夹）：当我们测试和运行代码时，包含Python代码的.ipynb文件将放在这个文件夹中。PDF文件由.ipynb文件生成（file=>另存为PDF文件）\n",
    "-Input（Algorithm下的子文件夹）：当我们测试并运行代码时，我们将把测试数据集复制到这个输入文件夹中。请确保您的代码能够从此输入文件夹中读取测试数据集。\n",
    "-Output（Algorithm下的子文件夹）：您的代码必须能够生成一个名为“predicted_labels.h5”的预测文件，并保存在这个输出文件夹中。预测文件应包含测试数据集的预测标签。我们将使用您的预测输出文件进行评分。\n",
    "由于这是一个单独的工作，每个学生需要提交所有的文件，这些文件必须以学生身份证号命名，格式如下。"
   ]
  },
  {
   "cell_type": "markdown",
   "metadata": {},
   "source": [
    "### Your submission should include the report and the code. \n",
    "A plagiarism checker will be used. Clearly provide instructions on how to run your code in the Appendix section of your report.\n",
    "### 您提交的报告应包括报告和代码。\n",
    "将使用抄袭检查程序。请在报告的附录部分清楚地提供有关如何运行代码的说明。"
   ]
  },
  {
   "cell_type": "markdown",
   "metadata": {},
   "source": [
    "### The code must clearly show :\n",
    "    1. Details of your implementation for each algorithm\n",
    "    2. Fine-tune hyper-parameters for each algorithm and running time\n",
    "    3. The comparison result between algorithms\n",
    "    4. Hardware and software specifications of the computer that you used for performance evaluation\n",
    "    \n",
    "    \n",
    "### 代码必须清楚显示：\n",
    "1每个算法的实现细节\n",
    "2为每个算法和运行时间微调超参数\n",
    "3 算法间的比较结果\n",
    "4用于性能评估的计算机的硬件和软件规格"
   ]
  },
  {
   "cell_type": "markdown",
   "metadata": {},
   "source": [
    "### The report must clearly show :\n",
    "    1. Details of your classifier \n",
    "    2. The predicted results from your classifier on test examples\n",
    "    3. Results comparison and discussion\n",
    "    4. Following the format in rubric : Introduction -> Methods -> Experiments result and discussion -> Conclusion\n",
    "    5. The maximum length of the report is 20 (including references)\n",
    "    \n",
    "    \n",
    "### 报告必须明确说明：\n",
    "1分类器的详细信息\n",
    "2根据你的测试结果预测的分类器示例\n",
    "3 结果比较与讨论\n",
    "4按照评估准则的格式：引言->方法->实验结果和讨论->结论\n",
    "5报告的最大长度为20（包括参考文献）"
   ]
  },
  {
   "cell_type": "markdown",
   "metadata": {},
   "source": [
    "### A penalty of MINUS 20 percent (-20%) for each day after the due date. \n",
    "The maximum delay for assignment submission is 5 (five) days, after which assignment will not be accepted.\n",
    "\n",
    "**You should upload your assignment at least half a day or one day prior to the submission deadline to avoid network congestion**.\n",
    "\n",
    "Canvas may not be able to handle a large number of submission happening at the same time. If you submit your assignment at a time close to the deadline, a submission error may occur causing your submission to be considered late. Penalty will be applied to late submission regardless of issues. \n",
    "\n",
    "\n",
    "### 到期日后每一天的罚款为负20%（-20%）。\n",
    "提交作业的最长延迟时间为5（五）天，在此之后，作业将不被接受。\n",
    "**您应在提交截止日期前至少半天或一天上传作业，以避免网络拥塞**。\n",
    "Canvas可能无法处理同时发生的大量提交。如果您在接近截止日期的时间提交作业，则可能会出现提交错误，导致您的提交被视为延迟提交。无论问题如何，逾期提交都将受到处罚。"
   ]
  },
  {
   "cell_type": "markdown",
   "metadata": {},
   "source": [
    "### All files required for assignment 1 can be downloaded from Canvas -> Assignments -> Assignment 1\n"
   ]
  }
 ],
 "metadata": {
  "anaconda-cloud": {},
  "kernelspec": {
   "display_name": "Python 3",
   "language": "python",
   "name": "python3"
  },
  "language_info": {
   "codemirror_mode": {
    "name": "ipython",
    "version": 3
   },
   "file_extension": ".py",
   "mimetype": "text/x-python",
   "name": "python",
   "nbconvert_exporter": "python",
   "pygments_lexer": "ipython3",
   "version": "3.7.1"
  }
 },
 "nbformat": 4,
 "nbformat_minor": 2
}
