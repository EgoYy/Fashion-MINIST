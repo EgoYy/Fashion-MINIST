{
 "cells": [
  {
   "cell_type": "markdown",
   "metadata": {},
   "source": [
    "# COMP5318 - Machine Learning and Data Mining: Assignment 1\n",
    "<div style=\"text-align: right\"> Due: Wed 21 Oct 2020 11:59PM </div>"
   ]
  },
  {
   "cell_type": "markdown",
   "metadata": {
    "nbpresent": {
     "id": "375753da-1c6c-4b02-986a-6e3b185a5869"
    }
   },
   "source": [
    "# Summary\n",
    "The goal of this assignment is to build a classifier to classify some grayscale images of the size 28x28 into a set of categories. The dimension of the original data is large, so you need to be smart on which method you gonna use and perhaps perform a pre-processing step to reduce the amount of computation. Part of your marks will be a function of the performance of your classifier on the test set.\n"
   ]
  },
  {
   "cell_type": "markdown",
   "metadata": {},
   "source": [
    "## Dataset description\n",
    "The dataset can be downloaded from Canvas. The dataset consists of a training set of 30,000 examples and a test set of 5,000 examples. They belong to 10 different categories. The validation set is not provided, but you can randomly pick a subset of the training set for validation. The labels of the first 2,000 test examples are given, you will analyse the performance of your proposed method by exploiting the 2,000 test examples. It is NOT allowed to use any examples from the test set for training; or it will be considered as cheating. The rest 3,000 labels of the test set are reserved for marking purpose. <br />\n",
    "Here are examples illustrating sample of the dataset (each class takes one row):\n",
    "\n"
   ]
  },
  {
   "cell_type": "markdown",
   "metadata": {},
   "source": [
    "<img src=\"Dataset_image.jpg\" alt=\"DataSet\" title=\"DataSet\" width=\"450\" height=\"300\" />"
   ]
  },
  {
   "cell_type": "markdown",
   "metadata": {},
   "source": [
    "There are 10 classes in total:<br />\n",
    "0 T-shirt/Top<br />\n",
    "1 Trouser<br />\n",
    "2 Pullover<br />\n",
    "3 Dress<br />\n",
    "4 Coat<br />\n",
    "5 Sandal<br />\n",
    "6 Shirt<br />\n",
    "7 Sneaker<br />\n",
    "8 Bag<br />\n",
    "9 Ankle boot <br />\n"
   ]
  },
  {
   "cell_type": "markdown",
   "metadata": {},
   "source": [
    "### How to load the data\n",
    "There is a Input folder including 4 main files (which can be downloaded from Canvas):\n",
    "    1. images_training.h5 (30000 samples for training)\n",
    "    2. labels_training.h5\n",
    "    3. images_testing.h5 (5000 samples for testing)\n",
    "    4. labels_testing_2000.h5"
   ]
  },
  {
   "cell_type": "markdown",
   "metadata": {},
   "source": [
    "To read the hdf5 file and load the data into a numpy array, assuming the **training data files are in the ./Input/train** and **testing data file are in ./Input/test**. <br /> Use the following code:"
   ]
  },
  {
   "cell_type": "markdown",
   "metadata": {},
   "source": [
    "Then data would be a numpy array of the shape (30000, 784), and\n",
    "label would be a numpy array of the shape (30000, ). It is noted that the labels_testing_2000 only contain 2000 samples for your testing and fine-tuning parameters. We will evaluate your model on full 5000 samples which is not provided.  \n",
    "The file images_testing.h5 can be loaded in a similar way.\n"
   ]
  },
  {
   "cell_type": "markdown",
   "metadata": {},
   "source": [
    "### How to output the prediction\n",
    "Output a file “predicted_labels.h5” that can be loaded in the same way as above. You may use the following code to generate an output file that meets the requirement:"
   ]
  },
  {
   "cell_type": "markdown",
   "metadata": {},
   "source": [
    "We will load the output file using the code for loading data above. It is your responsibility to make sure the output file can be correctly loaded using this code.\n",
    "The performance of your classifier will be evaluated in terms of the top-1 accuracy metric, i.e.<br /><br />\n",
    "<div style=\"text-align: center\"> $$\\text{Accuracy} = \\frac{\\text{Number of correct classifications}}{\\text{Total number of test examples used}} * 100\\%$$"
   ]
  },
  {
   "cell_type": "markdown",
   "metadata": {},
   "source": [
    "## Task description\n",
    "Your task is to determine / build a classifier for the given data set to classify images into categories and write a report. The score allocation is as follows:\n",
    "    * Classifier (code): max 60 points\n",
    "    * Report: max 35 points\n",
    "    * Others: max 5 points\n",
    "Please refer to the rubric in Canvas for detailed marking scheme. The report and the code are to be submitted in Canvas by the due date.<br />\n",
    "This assignment must be submitted in Python3. Although you are allowed to use external libraries for optimisation and linear algebraic calculations, you are NOT allowed to use external libraries for basic pre-processing or classification. For instance, you are allowed to use scipy.optimize for gradient descent or scipy.linalg.svd for matrix decomposition. However, you are NOT allowed to use sklearn.svm for classification (i.e. you have to implement the classifier yourself). If you have any ambiguity whether you can use a particular library or a function, please refer to Canvas -> Modules -> ”Assignment 1 FAQs” for clarification.\n"
   ]
  },
  {
   "cell_type": "markdown",
   "metadata": {},
   "source": [
    "## Instructions to hand in the assignment\n",
    "### Go to Canvas -> Assignments -> \"Assignment 1\" and submit 3 files only: the report and the code file.\n",
    "1) Report (a .pdf file): The report should include each member’s details (student IDs and names)<br />\n",
    "2) Code (2 files include: a .ipynb file and a PDF file): The code must be able to be run with the following folder structure:\n",
    "    - Algorithm (the root folder): Your .ipynb file containing Python code will be placed on this folder when we test and run your code. The PDF file is generated from .ipynb file (File => Save as PDF file)\n",
    "    - Input (a sub-folder under Algorithm): We will copy the test dataset into this Input folder when we test and run your code. Please make sure your code is able to read the test dataset from this Input folder.\n",
    "    - Output (a sub-folder under Algorithm): Your code must be able to generate a prediction file named “predicted_labels.h5” to be saved in this Output folder. The prediction file should contain predicted labels of the test dataset. We will use your prediction output file for grading purpose.\n",
    "\n",
    "Since this is a individual work, each student needs to submit all the files which must be named with student ID numbers following format e.g. “SIDxxxx_report.pdf”,  “SIDxxxx_code.ipynb”, \"SIDxxxx_code.ipynb.pdf\".\n"
   ]
  },
  {
   "cell_type": "markdown",
   "metadata": {},
   "source": [
    "### Your submission should include the report and the code. \n",
    "A plagiarism checker will be used. Clearly provide instructions on how to run your code in the Appendix section of your report."
   ]
  },
  {
   "cell_type": "markdown",
   "metadata": {},
   "source": [
    "### The code must clearly show :\n",
    "    1. Details of your implementation for each algorithm\n",
    "    2. Fine-tune hyper-parameters for each algorithm and running time\n",
    "    3. The comparison result between algorithms\n",
    "    4. Hardware and software specifications of the computer that you used for performance evaluation\n",
    "   "
   ]
  },
  {
   "cell_type": "markdown",
   "metadata": {},
   "source": [
    "### The report must clearly show :\n",
    "    1. Details of your classifier \n",
    "    2. The predicted results from your classifier on test examples\n",
    "    3. Results comparison and discussion\n",
    "    4. Following the format in rubric : Introduction -> Methods -> Experiments result and discussion -> Conclusion\n",
    "    5. The maximum length of the report is 20 (including references)\n",
    "    \n"
   ]
  },
  {
   "cell_type": "markdown",
   "metadata": {},
   "source": [
    "### A penalty of MINUS 20 percent (-20%) for each day after the due date. \n",
    "The maximum delay for assignment submission is 5 (five) days, after which assignment will not be accepted.\n",
    "\n",
    "**You should upload your assignment at least half a day or one day prior to the submission deadline to avoid network congestion**.\n",
    "\n",
    "Canvas may not be able to handle a large number of submission happening at the same time. If you submit your assignment at a time close to the deadline, a submission error may occur causing your submission to be considered late. Penalty will be applied to late submission regardless of issues. \n",
    "\n"
   ]
  },
  {
   "cell_type": "markdown",
   "metadata": {},
   "source": [
    "### All files required for assignment 1 can be downloaded from Canvas -> Assignments -> Assignment 1\n"
   ]
  },
  {
   "cell_type": "markdown",
   "metadata": {},
   "source": []
  },
  {
   "cell_type": "markdown",
   "metadata": {},
   "source": []
  },
  {
   "cell_type": "markdown",
   "metadata": {},
   "source": [
    "# Dataset (Step: 1 Running this block to output predict_labels)"
   ]
  },
  {
   "cell_type": "markdown",
   "metadata": {},
   "source": [
    "## Import packages (Step: 1.1 Running this block to output predict_labels)"
   ]
  },
  {
   "cell_type": "code",
   "execution_count": 1,
   "metadata": {},
   "outputs": [
    {
     "name": "stdout",
     "output_type": "stream",
     "text": [
      "['images_training.h5', 'labels_training.h5']\n"
     ]
    }
   ],
   "source": [
    "import h5py\n",
    "import numpy as np\n",
    "import os\n",
    "import matplotlib.pyplot as plt\n",
    "import scipy\n",
    "import time\n",
    "import math\n",
    "print(os.listdir(\"./Input/train\"))"
   ]
  },
  {
   "cell_type": "markdown",
   "metadata": {},
   "source": [
    "## Input data_train (Step: 1.2 Running this block to output predict_labels)"
   ]
  },
  {
   "cell_type": "code",
   "execution_count": 2,
   "metadata": {},
   "outputs": [
    {
     "name": "stdout",
     "output_type": "stream",
     "text": [
      "(30000, 28, 28) (30000,)\n"
     ]
    }
   ],
   "source": [
    "with h5py.File('./Input/train/images_training.h5','r') as H:\n",
    "    data_train = np.copy(H['datatrain'])\n",
    "    data_train = np.array([x/np.amax(x) for x in data_train])\n",
    "\n",
    "with h5py.File('./Input/train/labels_training.h5','r') as H:\n",
    "    label_train = np.copy(H['labeltrain'])\n",
    "    \n",
    "data_train_28_28 = data_train.reshape(data_train.shape[0], 28, 28)\n",
    "print(data_train_28_28.shape,label_train.shape)"
   ]
  },
  {
   "cell_type": "markdown",
   "metadata": {},
   "source": [
    "## Input data_train (Step: 1.3 Running this block to output predict_labels)"
   ]
  },
  {
   "cell_type": "code",
   "execution_count": 3,
   "metadata": {},
   "outputs": [
    {
     "name": "stdout",
     "output_type": "stream",
     "text": [
      "(5000, 28, 28) (2000,)\n"
     ]
    }
   ],
   "source": [
    "with h5py.File('./Input/test/images_testing.h5','r') as H:\n",
    "    data_test = np.copy(H['datatest'])\n",
    "    data_test = np.array([x/np.amax(x) for x in data_test])\n",
    "    \n",
    "with h5py.File('./Input/test/labels_testing_2000.h5','r') as H:\n",
    "    label_test = np.copy(H['labeltest'])\n",
    "    \n",
    "\n",
    "data_test_28_28 = data_test.reshape(data_test.shape[0], 28, 28)\n",
    "print(data_test_28_28.shape,label_test.shape)"
   ]
  },
  {
   "cell_type": "markdown",
   "metadata": {},
   "source": [
    "Showing a sample data. The first example belongs to class 0: T-Shirt/Top"
   ]
  },
  {
   "cell_type": "code",
   "execution_count": 4,
   "metadata": {},
   "outputs": [
    {
     "data": {
      "image/png": "[encoded data removed]",
      "text/plain": [
       "<Figure size 432x288 with 1 Axes>"
      ]
     },
     "metadata": {
      "needs_background": "light"
     },
     "output_type": "display_data"
    }
   ],
   "source": [
    "plt.imshow(data_train_28_28[0], cmap=plt.get_cmap('gray'))\n",
    "plt.title(\"class \" + str(label_train[0]) + \": T-shirt/Top\" )\n",
    "plt.show()"
   ]
  },
  {
   "cell_type": "markdown",
   "metadata": {},
   "source": [
    "# Pre-processing  (Step: 2 Running this block to output predict_labels)"
   ]
  },
  {
   "cell_type": "markdown",
   "metadata": {},
   "source": [
    "## Singular Value Decomposition (Step: 2.1 Running this block to output predict_labels)"
   ]
  },
  {
   "cell_type": "code",
   "execution_count": 5,
   "metadata": {},
   "outputs": [],
   "source": [
    "def SVD(sval_nums, data):\n",
    "    u, s, vh = np.linalg.svd(data)\n",
    "    data_svd = np.array([u[i][:,:sval_nums] @ np.diag(s[i][:sval_nums]) @ vh[i][:sval_nums:,] for i in range(s.shape[0])])\n",
    "    return data_svd\n"
   ]
  },
  {
   "cell_type": "markdown",
   "metadata": {},
   "source": [
    "Showing a sample data after SVD. The first example belongs to class 0: T-Shirt/Top"
   ]
  },
  {
   "cell_type": "code",
   "execution_count": 6,
   "metadata": {},
   "outputs": [
    {
     "data": {
      "image/png": "[encoded data removed]",
      "text/plain": [
       "<Figure size 432x288 with 1 Axes>"
      ]
     },
     "metadata": {
      "needs_background": "light"
     },
     "output_type": "display_data"
    }
   ],
   "source": [
    "data_train_svd = SVD(10, data_train_28_28)\n",
    "plt.imshow(data_train_svd[0], cmap=plt.get_cmap('gray'))\n",
    "plt.title(\"class \" + str(label_train[0]) + \": T-shirt/Top\" )\n",
    "plt.show()"
   ]
  },
  {
   "cell_type": "markdown",
   "metadata": {},
   "source": [
    "## Principal Component Analysis(Step: 2.2 Running this block to output predict_labels)"
   ]
  },
  {
   "cell_type": "code",
   "execution_count": 7,
   "metadata": {},
   "outputs": [],
   "source": [
    "def pca(data, percentage):  \n",
    "    \n",
    "    eigenValues = np.mean(data, axis=0)  \n",
    "    zeroCentred_data = data-eigenValues\n",
    "    cov_data = np.cov(zeroCentred_data.T)  \n",
    "    eigenValues, eigenVectors = np.linalg.eig(cov_data) \n",
    "      \n",
    "    sortEigVals = np.sort(eigenValues) \n",
    "    sortEigVals = sortEigVals[-1::-1] \n",
    "    eigValsSum = sum(sortEigVals) \n",
    "    eigValSum = 0\n",
    "    n = 0\n",
    "    for i in sortEigVals:\n",
    "        eigValSum = eigValSum + i\n",
    "        n = n + 1\n",
    "        if eigValSum >= eigValsSum * percentage:\n",
    "            break\n",
    "\n",
    "    eigenVectors = eigenVectors[:,np.argsort(-eigenValues)][:,:n] \n",
    "    eigenValues = -np.sort(-eigenValues)[:n] \n",
    "    data_pca = eigenVectors.T @ zeroCentred_data.T\n",
    "    data_pca = data_pca.T\n",
    "    return data_pca, eigenVectors            \n",
    "            "
   ]
  },
  {
   "cell_type": "markdown",
   "metadata": {},
   "source": [
    "Showing data shape after PCA"
   ]
  },
  {
   "cell_type": "code",
   "execution_count": 8,
   "metadata": {},
   "outputs": [
    {
     "name": "stdout",
     "output_type": "stream",
     "text": [
      "(30000, 84)\n",
      "(5000, 84)\n",
      "CPU times: user 1.54 s, sys: 185 ms, total: 1.73 s\n",
      "Wall time: 1.03 s\n"
     ]
    }
   ],
   "source": [
    "%%time\n",
    "data_train_pca, eigenVectors= pca(data_train, percentage=0.9)\n",
    "data_test_pca = (eigenVectors.T @ (data_test - np.mean(data_test, axis=0)).T).T\n",
    "print(data_train_pca.shape)\n",
    "print(data_test_pca.shape)"
   ]
  },
  {
   "cell_type": "markdown",
   "metadata": {},
   "source": [
    "## K-fold Cross Validation(Step: 2.3 Running this block to output predict_labels)"
   ]
  },
  {
   "cell_type": "code",
   "execution_count": 8,
   "metadata": {},
   "outputs": [],
   "source": [
    "def kfold(n, kf):\n",
    "    arr = np.arange(n)\n",
    "    np.random.shuffle(arr)\n",
    "    indexs = np.array([arr[i::kf] for i in range(kf)])\n",
    "    return indexs"
   ]
  },
  {
   "cell_type": "markdown",
   "metadata": {},
   "source": [
    "# Classifier "
   ]
  },
  {
   "cell_type": "markdown",
   "metadata": {},
   "source": [
    "## KNN "
   ]
  },
  {
   "cell_type": "markdown",
   "metadata": {},
   "source": [
    "trainData :(array) (n_rows, features) training data <br>\n",
    "testData  :(array) (n_rows, features) testing  data <br>\n",
    "trainLabel:(array) (n_rows,         ) training label<br>\n",
    "testLabel :(array) (n_rows,         ) testing  label<br>\n",
    "k: (int) Number of nearest neighbors"
   ]
  },
  {
   "cell_type": "code",
   "execution_count": 13,
   "metadata": {},
   "outputs": [],
   "source": [
    "def Knn(trainData, testData, trainLabel, testLabel, k):\n",
    "# Predict\n",
    "    predict_labels = []\n",
    "    for i in range(testData.shape[0]):\n",
    "        distance = []\n",
    "        distance = (np.square(testData[i] - trainData)).sum(axis=1)\n",
    "        index = np.argsort(distance)\n",
    "        \n",
    "        labels = []\n",
    "        for nearest_index in range(k):\n",
    "            label = trainLabel[index[nearest_index]]\n",
    "            labels.append(label)\n",
    "        predict_label = max(labels, key=labels.count)\n",
    "        predict_labels.append(predict_label)       \n",
    "\n",
    "# Accuracy\n",
    "    T = 0\n",
    "    for i in range(testLabel.shape[0]):\n",
    "        if predict_labels[i] == testLabel[i]:\n",
    "            T = T + 1\n",
    "    accuracy = T / (testLabel.shape[0])\n",
    "    return accuracy"
   ]
  },
  {
   "cell_type": "markdown",
   "metadata": {},
   "source": [
    "###  Traing model"
   ]
  },
  {
   "cell_type": "markdown",
   "metadata": {},
   "source": [
    "#### Raw Data"
   ]
  },
  {
   "cell_type": "markdown",
   "metadata": {},
   "source": [
    "We divided all train_data into 25000 and 5000 as training set and test set respectively, the best accuracy can be get on K=6."
   ]
  },
  {
   "cell_type": "code",
   "execution_count": 11,
   "metadata": {},
   "outputs": [
    {
     "name": "stdout",
     "output_type": "stream",
     "text": [
      "[0.8506, 0.8534, 0.8498, 0.849, 0.8488, 0.8462, 0.8464, 0.8476, 0.8442, 0.8482, 0.8462]\n"
     ]
    },
    {
     "data": {
      "image/png": "[encoded data removed]",
      "text/plain": [
       "<Figure size 432x288 with 1 Axes>"
      ]
     },
     "metadata": {
      "needs_background": "light"
     },
     "output_type": "display_data"
    },
    {
     "name": "stdout",
     "output_type": "stream",
     "text": [
      "CPU times: user 1h 7min 6s, sys: 9min, total: 1h 16min 6s\n",
      "Wall time: 38min 45s\n"
     ]
    }
   ],
   "source": [
    "%%time\n",
    "data_train_25000 = data_train[0:25000]\n",
    "data_train_5000  = data_train[25000:]\n",
    "label_train_25000 = label_train[0:25000]\n",
    "label_train_5000  = label_train[25000:]\n",
    "\n",
    "knn_train_accuracy = []\n",
    "for k in range(5,16):\n",
    "    accuracy = Knn(data_train_25000, data_train_5000, label_train_25000, label_train_5000, k=k)\n",
    "    knn_train_accuracy.append(accuracy)\n",
    "print(knn_train_accuracy)\n",
    "\n",
    "x_data = np.arange(5,16)\n",
    "y_data = knn_train_accuracy\n",
    "plt.plot(x_data,y_data)\n",
    "plt.xlabel('k')\n",
    "plt.ylabel('accuracy')\n",
    "plt.title(\"knn_train_accuracy\")\n",
    "plt.show()"
   ]
  },
  {
   "cell_type": "markdown",
   "metadata": {},
   "source": [
    "#### Data after PCA"
   ]
  },
  {
   "cell_type": "markdown",
   "metadata": {},
   "source": [
    "We divided all train_data into 25000 and 5000 as training set and test set respectively, the best accuracy can be get on K=6."
   ]
  },
  {
   "cell_type": "code",
   "execution_count": 14,
   "metadata": {},
   "outputs": [
    {
     "name": "stdout",
     "output_type": "stream",
     "text": [
      "[0.8588, 0.8596, 0.859, 0.8592, 0.8596, 0.8592, 0.858, 0.8588, 0.8578, 0.8572, 0.8558]\n"
     ]
    },
    {
     "data": {
      "image/png": "[encoded data removed]",
      "text/plain": [
       "<Figure size 432x288 with 1 Axes>"
      ]
     },
     "metadata": {
      "needs_background": "light"
     },
     "output_type": "display_data"
    },
    {
     "name": "stdout",
     "output_type": "stream",
     "text": [
      "CPU times: user 14min 45s, sys: 1min 50s, total: 16min 35s\n",
      "Wall time: 8min 31s\n"
     ]
    }
   ],
   "source": [
    "%%time\n",
    "data_train_pca, eigenVectors= pca(data_train, percentage=0.9)\n",
    "\n",
    "data_train_pca_25000 = data_train_pca[0:25000]\n",
    "data_train_pca_5000  = data_train_pca[25000:]\n",
    "label_train_25000 = label_train[0:25000]\n",
    "label_train_5000  = label_train[25000:]\n",
    "\n",
    "knn_train_pca_accuracy = []\n",
    "for k in range(5,16):\n",
    "    accuracy = Knn(data_train_pca_25000, data_train_pca_5000, label_train_25000, label_train_5000, k=k)\n",
    "    knn_train_pca_accuracy.append(accuracy)\n",
    "print(knn_train_pca_accuracy)\n",
    "\n",
    "x_data = np.arange(5,16)\n",
    "y_data = knn_train_pca_accuracy\n",
    "plt.plot(x_data,y_data)\n",
    "plt.xlabel('k')\n",
    "plt.ylabel('accuracy')\n",
    "plt.title(\"knn_train_pca_accuracy\")\n",
    "plt.show()"
   ]
  },
  {
   "cell_type": "markdown",
   "metadata": {},
   "source": [
    "#### Data after PCA + 5-Fold Cross Validation"
   ]
  },
  {
   "cell_type": "markdown",
   "metadata": {},
   "source": [
    "In order to make the obtained K more representative, we use the 5-Fold Cross Validation. We can see the best accuracy can be get on K=8."
   ]
  },
  {
   "cell_type": "code",
   "execution_count": 81,
   "metadata": {},
   "outputs": [
    {
     "name": "stdout",
     "output_type": "stream",
     "text": [
      "[0.8547, 0.8553, 0.8548, 0.8559, 0.8539, 0.8531, 0.8533, 0.8534]\n"
     ]
    },
    {
     "data": {
      "image/png": "[encoded data removed]",
      "text/plain": [
       "<Figure size 432x288 with 1 Axes>"
      ]
     },
     "metadata": {
      "needs_background": "light"
     },
     "output_type": "display_data"
    },
    {
     "name": "stdout",
     "output_type": "stream",
     "text": [
      "CPU times: user 1h 6min 39s, sys: 7min 34s, total: 1h 14min 14s\n",
      "Wall time: 39min 3s\n"
     ]
    }
   ],
   "source": [
    "%%time\n",
    "data_train_pca, eigenVectors= pca(data_train, percentage=0.9)\n",
    "indexs = kfold(data_train_pca.shape[0], kf=5)\n",
    "knn_kf_pca_accuracy = []\n",
    "for k in range(5,13):\n",
    "    k_sum_acc = 0\n",
    "    for f in range(5):\n",
    "        index_test_kf = indexs[f]\n",
    "        data_test_kf = data_train_pca[index_test_kf]\n",
    "        label_test_kf = label_train[index_test_kf]\n",
    "\n",
    "        index_train_kf = np.hstack(np.delete(indexs, f, 0))\n",
    "        data_train_kf = data_train_pca[index_train_kf]\n",
    "        label_train_kf = label_train[index_train_kf]\n",
    "\n",
    "        accuracy = Knn(data_train_kf, data_test_kf, label_train_kf, label_test_kf, k)\n",
    "        k_sum_acc = k_sum_acc + accuracy\n",
    "    k_avg_acc = np.around(k_sum_acc/5, 4)\n",
    "    \n",
    "    knn_kf_pca_accuracy.append(k_avg_acc)\n",
    "print(knn_kf_pca_accuracy)\n",
    "\n",
    "x_data = np.arange(5,13)\n",
    "y_data = knn_kf_pca_accuracy\n",
    "plt.plot(x_data,y_data)\n",
    "plt.xlabel('k')\n",
    "plt.ylabel('accuracy')\n",
    "plt.title(\"knn_kf_pca_accuracy\")\n",
    "plt.show()"
   ]
  },
  {
   "cell_type": "markdown",
   "metadata": {},
   "source": [
    "### Compare (Using K=8) "
   ]
  },
  {
   "cell_type": "markdown",
   "metadata": {},
   "source": [
    "#### PCA "
   ]
  },
  {
   "cell_type": "markdown",
   "metadata": {},
   "source": [
    "We found that PCA + SVD has the highest accuracy, and the speed is faster than SVD. So I decide to use PCA+SVD to processing data."
   ]
  },
  {
   "cell_type": "code",
   "execution_count": 91,
   "metadata": {},
   "outputs": [
    {
     "name": "stdout",
     "output_type": "stream",
     "text": [
      "0.8592\n",
      "CPU times: user 1min 29s, sys: 12.4 s, total: 1min 41s\n",
      "Wall time: 53.6 s\n"
     ]
    }
   ],
   "source": [
    "%%time\n",
    "data_train_pca, eigenVectors= pca(data_train, percentage=0.9)\n",
    "\n",
    "data_train_pca_25000 = data_train_pca[0:25000]\n",
    "data_train_pca_5000  = data_train_pca[25000:]\n",
    "label_train_25000 = label_train[0:25000]\n",
    "label_train_5000  = label_train[25000:]\n",
    "accuracy = Knn(data_train_pca_25000, data_train_pca_5000, label_train_25000, label_train_5000, k=8)\n",
    "print(accuracy)"
   ]
  },
  {
   "cell_type": "markdown",
   "metadata": {},
   "source": [
    "#### SVD "
   ]
  },
  {
   "cell_type": "code",
   "execution_count": 100,
   "metadata": {},
   "outputs": [
    {
     "name": "stdout",
     "output_type": "stream",
     "text": [
      "0.849\n",
      "CPU times: user 6min 20s, sys: 48.9 s, total: 7min 9s\n",
      "Wall time: 3min 42s\n"
     ]
    }
   ],
   "source": [
    "%%time\n",
    "data_train_svd = SVD(10, data_train_28_28)\n",
    "\n",
    "data_train_svd_25000 = data_train_svd[0:25000]\n",
    "data_train_svd_5000  = data_train_svd[25000:]\n",
    "label_train_25000 = label_train[0:25000]\n",
    "label_train_5000  = label_train[25000:]\n",
    "accuracy = Knn(data_train_svd_25000.reshape(data_train_svd_25000.shape[0],data_train_svd_25000.shape[1]**2),\n",
    "                data_train_svd_5000.reshape(data_train_svd_5000.shape[0],data_train_svd_5000.shape[1]**2), \n",
    "                label_train_25000, label_train_5000, k=8)\n",
    "print(accuracy)"
   ]
  },
  {
   "cell_type": "markdown",
   "metadata": {},
   "source": [
    "#### PCA + SVD"
   ]
  },
  {
   "cell_type": "code",
   "execution_count": 102,
   "metadata": {},
   "outputs": [
    {
     "name": "stdout",
     "output_type": "stream",
     "text": [
      "0.8594\n",
      "CPU times: user 1min 29s, sys: 13 s, total: 1min 42s\n",
      "Wall time: 55.5 s\n"
     ]
    }
   ],
   "source": [
    "%%time\n",
    "data_train_svd = SVD(10, data_train_28_28)\n",
    "data_train_svd_25000 = data_train_svd[0:25000]\n",
    "data_train_svd_5000  = data_train_svd[25000:]\n",
    "data_train_svd_pca_25000, eigenVectors= pca(data_train_svd_25000.reshape(data_train_svd_25000.shape[0],data_train_svd_25000.shape[1]**2), percentage=0.9)\n",
    "data_train_svd_pca_5000 = (eigenVectors.T @ ((data_train_svd_5000.reshape(data_train_svd_5000.shape[0],data_train_svd_5000.shape[1]**2)) \n",
    "                                   - np.mean((data_train_svd_5000.reshape(data_train_svd_5000.shape[0],data_train_svd_5000.shape[1]**2)), axis=0)).T).T\n",
    "label_train_25000 = label_train[0:25000]\n",
    "label_train_5000  = label_train[25000:]\n",
    "\n",
    "accuracy = Knn(data_train_svd_pca_25000, data_train_svd_pca_5000, label_train_25000, label_train_5000, k=8)\n",
    "print(accuracy)\n",
    "\n"
   ]
  },
  {
   "cell_type": "markdown",
   "metadata": {},
   "source": [
    "## NavitBayes"
   ]
  },
  {
   "cell_type": "markdown",
   "metadata": {},
   "source": [
    "data_train_bayes :(array) (n_rows, features) training data <br>\n",
    "label_train      :(array) (n_rows,         ) training label<br>\n",
    "data_test_bayes  :(array) (n_rows, features) testing  data <br>\n",
    "label_test       :(array) (n_rows,         ) testing  label<br>\n"
   ]
  },
  {
   "cell_type": "code",
   "execution_count": 64,
   "metadata": {},
   "outputs": [],
   "source": [
    "def NavieBayes(data_train_bayes, label_train, data_test_bayes, label_test):\n",
    "# Fit\n",
    "    priorProbability = {}\n",
    "    likelihood = {} \n",
    "    eigenValues = {}  \n",
    "    \n",
    "    data_number, feature_num = data_train_bayes.shape    \n",
    "    Ck, Ck_number = np.unique(label_train, return_counts=True)\n",
    "    Ck_counter = dict(zip(Ck, Ck_number))\n",
    "    for label, label_number in Ck_counter.items():\n",
    "        priorProbability[label] = (label_number + 1) / (data_number + Ck.shape[0])\n",
    "    \n",
    "    Ck_index = []\n",
    "    for label in Ck:\n",
    "        label_index = np.squeeze(np.argwhere(label_train == label))\n",
    "        Ck_index.append(label_index)\n",
    "   \n",
    "    for label, index in zip(Ck, Ck_index):\n",
    "        data_n = data_train_bayes[index]\n",
    "        label_likelihood = {}\n",
    "        for i in range(feature_num):\n",
    "            featureValProb = {}\n",
    "            feature_val, feature_cnt = np.unique(data_n[:, i], return_counts=True)\n",
    "            eigenValues[i] = feature_val.shape[0]\n",
    "            feature_counter = dict(zip(feature_val, feature_cnt))\n",
    "            for featureVal, count in feature_counter.items():\n",
    "                featureValProb[featureVal] = (count + 1) / (Ck_counter[label] + eigenValues[i])\n",
    "            label_likelihood[i] = featureValProb\n",
    "        likelihood[label] = label_likelihood\n",
    "\n",
    "        \n",
    "# Predict       \n",
    "    label_predicts = []\n",
    "    for n in range(data_test_bayes.shape[0]):\n",
    "        postProbability = {}\n",
    "        for label, label_likelihood in likelihood.items():\n",
    "            probability = np.log(priorProbability[label])\n",
    "            for i, featureVal in enumerate(data_test_bayes[n]):\n",
    "                featureValProb = label_likelihood[i]\n",
    "                if featureVal in featureValProb:\n",
    "                    probability += np.log(featureValProb[featureVal])\n",
    "                else:\n",
    "                    laplace_prob = 1 / (Ck_counter[label] + eigenValues[i])\n",
    "                    probability = probability + np.log(laplace_prob)\n",
    "            postProbability[label] = probability\n",
    "        probabilities = list(postProbability.items())\n",
    "        probabilities.sort(key=lambda v: v[1], reverse=True)\n",
    "        label_predict = probabilities[0][0]\n",
    "        label_predicts.append(label_predict)\n",
    "        \n",
    "        \n",
    "# Accuracy        \n",
    "    T = 0\n",
    "    for i in range(data_test_bayes.shape[0]):\n",
    "        if label_predicts[i] == label_test[i]:\n",
    "            T = T + 1\n",
    "    accuracy = T / (data_test_bayes.shape[0])\n",
    "    return accuracy, label_predicts\n"
   ]
  },
  {
   "cell_type": "markdown",
   "metadata": {},
   "source": [
    "### Traing Model"
   ]
  },
  {
   "cell_type": "markdown",
   "metadata": {},
   "source": [
    "We use the 5-Fold Cross Validation. We can see the accuracy is 0.8107"
   ]
  },
  {
   "cell_type": "code",
   "execution_count": 69,
   "metadata": {
    "scrolled": true
   },
   "outputs": [
    {
     "name": "stdout",
     "output_type": "stream",
     "text": [
      "0.8107\n",
      "CPU times: user 12.6 s, sys: 104 ms, total: 12.7 s\n",
      "Wall time: 13.1 s\n"
     ]
    }
   ],
   "source": [
    "%%time\n",
    "indexs = kfold(data_train.shape[0], kf=5)\n",
    "k_sum_acc = 0\n",
    "for f in range(5):\n",
    "    index_test_kf = indexs[f]\n",
    "    data_test_kf = data_train_pca[index_test_kf]\n",
    "    label_test_kf = label_train[index_test_kf]\n",
    "\n",
    "    index_train_kf = np.hstack(np.delete(indexs, f, 0))\n",
    "    data_train_kf = data_train_pca[index_train_kf]\n",
    "    label_train_kf = label_train[index_train_kf]\n",
    "\n",
    "    accuracy = softmax(data_train_kf,label_train_kf, data_test_kf, label_test_kf, \n",
    "                       learning_rate = i * 0.001, \n",
    "                       max_iteration = 10000,  \n",
    "                       weight_lambda = 0.001)\n",
    "    k_sum_acc = k_sum_acc + accuracy\n",
    "NavieBayes_acc = np.around(k_sum_acc/5, 4)  \n",
    "print(NavieBayes_acc)\n"
   ]
  },
  {
   "cell_type": "markdown",
   "metadata": {},
   "source": [
    "## Softmax"
   ]
  },
  {
   "cell_type": "markdown",
   "metadata": {},
   "source": [
    "data_train   :(array) (n_rows, features) training data <br>\n",
    "label_train  :(array) (n_rows,         ) training label<br>\n",
    "data_test    :(array) (n_rows, features) testing  data <br>\n",
    "label_test   :(array) (n_rows,         ) testing  label<br>\n",
    "learning_rate:(float) learning step\n",
    "max_iteration: (int) The max number of iteration\n",
    "weight_lambda:(float) weight"
   ]
  },
  {
   "cell_type": "code",
   "execution_count": 58,
   "metadata": {},
   "outputs": [],
   "source": [
    "def softmax(data_train, label_train, data_test, label_test, learning_rate, max_iteration, weight_lambda):\n",
    "# Fit\n",
    "    k = len(set(label_train))\n",
    "    w = np.zeros((len(set(label_train)), len(data_train[0])+1))\n",
    "    count = 0\n",
    "\n",
    "    while count < max_iteration:\n",
    "        count += 1\n",
    "        index = np.random.randint(0, len(label_train) - 1)\n",
    "        x = data_train[index]\n",
    "        y = label_train[index]\n",
    "\n",
    "        x = list(x)\n",
    "        x.append(1.0)\n",
    "        x = np.array(x)      \n",
    "        for j in range(k):\n",
    "            molecule =  math.exp(np.dot(w[j],x))\n",
    "            denominator = sum([math.exp(np.dot(w[i],x)) for i in range(k)])\n",
    "\n",
    "            first = int(y == j)                          \n",
    "            second = molecule/denominator                 \n",
    "            derivative = -x*(first-second) + weight_lambda*w[j]                              \n",
    "            w[j] -= learning_rate * derivative  \n",
    "\n",
    "# Predict           \n",
    "    labels = []\n",
    "    for feature in data_test:\n",
    "        x = list(feature)\n",
    "        x.append(1)\n",
    "        x = np.matrix(x)\n",
    "        x = np.transpose(x)\n",
    "        result = np.dot(w,x)\n",
    "        row, column = result.shape\n",
    "\n",
    "        positon = np.argmax(result)\n",
    "        m, n = divmod(positon, column)                       \n",
    "        labels.append(m)\n",
    "\n",
    "# Accuracy\n",
    "    T = 0\n",
    "    for i in range(len(labels)):\n",
    "        if labels[i] == label_test[i]:\n",
    "            T = T + 1\n",
    "    accuracy = T / (len(labels))            \n",
    "    return accuracy\n"
   ]
  },
  {
   "cell_type": "markdown",
   "metadata": {},
   "source": [
    "### Traing Model"
   ]
  },
  {
   "cell_type": "markdown",
   "metadata": {},
   "source": [
    "We use the data after PCA, we run data in 5-Fold Cross Validation . we can see when the max_iteration = 10000, the learning_rate = 0.012, the accuracy is the highest which is 0.8116"
   ]
  },
  {
   "cell_type": "code",
   "execution_count": 59,
   "metadata": {},
   "outputs": [
    {
     "name": "stdout",
     "output_type": "stream",
     "text": [
      "[0.8107, 0.8116, 0.8153, 0.8104, 0.8109, 0.8108, 0.8082, 0.8138, 0.8133, 0.8049, 0.8111, 0.8065, 0.7982, 0.8017, 0.8068]\n"
     ]
    },
    {
     "data": {
      "image/png": "[encoded data removed]",
      "text/plain": [
       "<Figure size 432x288 with 1 Axes>"
      ]
     },
     "metadata": {
      "needs_background": "light"
     },
     "output_type": "display_data"
    },
    {
     "name": "stdout",
     "output_type": "stream",
     "text": [
      "CPU times: user 3min 27s, sys: 2.58 s, total: 3min 30s\n",
      "Wall time: 3min 48s\n"
     ]
    }
   ],
   "source": [
    "%%time\n",
    "data_train_pca, eigenVectors= pca(data_train, percentage=0.9)\n",
    "indexs = kfold(data_train_pca.shape[0], kf=5)\n",
    "softmax_kf_pca_accuracy = []\n",
    "for i in range(10, 25, 1):\n",
    "    k_sum_acc = 0\n",
    "    for f in range(5):\n",
    "        index_test_kf = indexs[f]\n",
    "        data_test_kf = data_train_pca[index_test_kf]\n",
    "        label_test_kf = label_train[index_test_kf]\n",
    "\n",
    "        index_train_kf = np.hstack(np.delete(indexs, f, 0))\n",
    "        data_train_kf = data_train_pca[index_train_kf]\n",
    "        label_train_kf = label_train[index_train_kf]\n",
    "\n",
    "        accuracy = softmax(data_train_kf,label_train_kf, data_test_kf, label_test_kf, \n",
    "                           learning_rate = i * 0.001, \n",
    "                           max_iteration = 10000,  \n",
    "                           weight_lambda = 0.001)\n",
    "        \n",
    "        k_sum_acc = k_sum_acc + accuracy\n",
    "    k_avg_acc = np.around(k_sum_acc/5, 4)\n",
    "    \n",
    "    softmax_kf_pca_accuracy.append(k_avg_acc)\n",
    "print(softmax_kf_pca_accuracy)\n",
    "\n",
    "x_data = np.arange(10,25)*0.001\n",
    "y_data = softmax_kf_pca_accuracy\n",
    "plt.plot(x_data,y_data)\n",
    "plt.xlabel('learning_rate')\n",
    "plt.ylabel('accuracy')\n",
    "plt.title(\"max_iteration = 10000 softmax_kf_pca_accuracy\")\n",
    "plt.show()"
   ]
  },
  {
   "cell_type": "markdown",
   "metadata": {},
   "source": [
    "We use the data after PCA, we run data in 5-Fold Cross Validation . we can see when the max_iteration = 20000, the learning_rate = 0.014, the accuracy is the highest which is 0.8258"
   ]
  },
  {
   "cell_type": "code",
   "execution_count": 62,
   "metadata": {},
   "outputs": [
    {
     "name": "stdout",
     "output_type": "stream",
     "text": [
      "[0.8083, 0.8185, 0.8215, 0.8236, 0.8257, 0.8223, 0.8258, 0.8165, 0.82]\n"
     ]
    },
    {
     "data": {
      "image/png": "[encoded data removed]",
      "text/plain": [
       "<Figure size 432x288 with 1 Axes>"
      ]
     },
     "metadata": {
      "needs_background": "light"
     },
     "output_type": "display_data"
    },
    {
     "name": "stdout",
     "output_type": "stream",
     "text": [
      "CPU times: user 4min 2s, sys: 2.66 s, total: 4min 5s\n",
      "Wall time: 4min 30s\n"
     ]
    }
   ],
   "source": [
    "%%time\n",
    "data_train_pca, eigenVectors= pca(data_train, percentage=0.9)\n",
    "indexs = kfold(data_train_pca.shape[0], kf=5)\n",
    "softmax_kf_pca_accuracy = []\n",
    "for i in range(2, 20, 2):\n",
    "    k_sum_acc = 0\n",
    "    for f in range(5):\n",
    "        index_test_kf = indexs[f]\n",
    "        data_test_kf = data_train_pca[index_test_kf]\n",
    "        label_test_kf = label_train[index_test_kf]\n",
    "\n",
    "        index_train_kf = np.hstack(np.delete(indexs, f, 0))\n",
    "        data_train_kf = data_train_pca[index_train_kf]\n",
    "        label_train_kf = label_train[index_train_kf]\n",
    "\n",
    "        accuracy = softmax(data_train_kf,label_train_kf, data_test_kf, label_test_kf, \n",
    "                           learning_rate = i * 0.001, \n",
    "                           max_iteration = 20000,  \n",
    "                           weight_lambda = 0.001)\n",
    "        \n",
    "        k_sum_acc = k_sum_acc + accuracy\n",
    "    k_avg_acc = np.around(k_sum_acc/5, 4)\n",
    "    \n",
    "    softmax_kf_pca_accuracy.append(k_avg_acc)\n",
    "print(softmax_kf_pca_accuracy)\n",
    "\n",
    "x_data = np.arange(1,10)*0.002\n",
    "y_data = softmax_kf_pca_accuracy\n",
    "plt.plot(x_data,y_data)\n",
    "plt.xlabel('k')\n",
    "plt.ylabel('learning_rate')\n",
    "plt.title(\"max_iteration = 20000 softmax_kf_pca_accuracy\")\n",
    "plt.show()"
   ]
  },
  {
   "cell_type": "markdown",
   "metadata": {},
   "source": [
    "# Validation "
   ]
  },
  {
   "cell_type": "markdown",
   "metadata": {},
   "source": [
    "We choose the model with the highest accuracy and use the Testing data (2000) for verification"
   ]
  },
  {
   "cell_type": "code",
   "execution_count": 15,
   "metadata": {},
   "outputs": [
    {
     "name": "stdout",
     "output_type": "stream",
     "text": [
      "0.843\n",
      "CPU times: user 1min 58s, sys: 18.7 s, total: 2min 17s\n",
      "Wall time: 1min 18s\n"
     ]
    }
   ],
   "source": [
    "%%time\n",
    "data_train_svd = SVD(10, data_train_28_28)\n",
    "data_test_svd = SVD(10, data_test_28_28)\n",
    "data_train_svd_pca_8, eigenVectors= pca(data_train_svd.reshape(data_train_svd.shape[0],data_train_svd.shape[1]**2), percentage=0.9)\n",
    "data_test_svd_pca_8 = (eigenVectors.T @ ((data_test_svd.reshape(data_test_svd.shape[0],data_test_svd.shape[1]**2)) \n",
    "                                   - np.mean((data_test_svd.reshape(data_test_svd.shape[0],data_test_svd.shape[1]**2)), axis=0)).T).T\n",
    "\n",
    "\n",
    "best_accurarcy_8= Knn(data_train_svd_pca_8, data_test_svd_pca_8, label_train, label_test, k=8)\n",
    "print(best_accurarcy_8)"
   ]
  },
  {
   "cell_type": "markdown",
   "metadata": {},
   "source": [
    "The accuracy rate is similar to that of our training model, so there is no over fitting or under fitting. I will use this model as the final output."
   ]
  },
  {
   "cell_type": "markdown",
   "metadata": {},
   "source": [
    "# Output (Step: 3 Running this block to output predict_labels)"
   ]
  },
  {
   "cell_type": "markdown",
   "metadata": {},
   "source": [
    "The previous KNN method has no “return predict_ Labels”<br>\n",
    "This KNN method here has one more return value \"predict_Labels\""
   ]
  },
  {
   "cell_type": "code",
   "execution_count": 22,
   "metadata": {},
   "outputs": [
    {
     "name": "stdout",
     "output_type": "stream",
     "text": [
      "0.843\n",
      "['.DS_Store', 'predicted_labels.h5']\n",
      "[1 8 1 ... 7 0 0]\n",
      "(5000,)\n",
      "CPU times: user 1min 55s, sys: 19.3 s, total: 2min 14s\n",
      "Wall time: 1min 17s\n"
     ]
    }
   ],
   "source": [
    "%%time\n",
    "def Knn(trainData, testData, trainLabel, testLabel, k):\n",
    "    predict_labels = []\n",
    "    for i in range(testData.shape[0]):\n",
    "        distance = []\n",
    "        distance = (np.square(testData[i] - trainData)).sum(axis=1)\n",
    "        index = np.argsort(distance)\n",
    "        \n",
    "        labels = []\n",
    "        for nearest_index in range(k):\n",
    "            label = trainLabel[index[nearest_index]]\n",
    "            labels.append(label)\n",
    "        predict_label = max(labels, key=labels.count)\n",
    "        predict_labels.append(predict_label)       \n",
    "\n",
    "    T = 0\n",
    "    for i in range(testLabel.shape[0]):\n",
    "        if predict_labels[i] == testLabel[i]:\n",
    "            T = T + 1\n",
    "    accuracy = T / (testLabel.shape[0])\n",
    "    return accuracy, predict_labels\n",
    "\n",
    "\n",
    "data_train_svd = SVD(10, data_train_28_28)\n",
    "data_test_svd = SVD(10, data_test_28_28)\n",
    "data_train_svd_pca_8, eigenVectors= pca(data_train_svd.reshape(data_train_svd.shape[0],data_train_svd.shape[1]**2), percentage=0.9)\n",
    "data_test_svd_pca_8 = (eigenVectors.T @ ((data_test_svd.reshape(data_test_svd.shape[0],data_test_svd.shape[1]**2)) \n",
    "                                   - np.mean((data_test_svd.reshape(data_test_svd.shape[0],data_test_svd.shape[1]**2)), axis=0)).T).T\n",
    "\n",
    "\n",
    "best_accurarcy_8, predict_labels= Knn(data_train_svd_pca_8, data_test_svd_pca_8, label_train, label_test, k=8)\n",
    "print(best_accurarcy_8)\n",
    "predict_label = np.asarray(predict_labels)\n",
    "# assume output is the predicted labels (5000,) \n",
    "with h5py.File('Output/predicted_labels.h5','w') as H:\n",
    "    H.create_dataset('Output',data=predict_label)\n",
    "    \n",
    "print(os.listdir(\"./Output\"))\n",
    "with h5py.File('./Output/predicted_labels.h5','r') as H:\n",
    "    predict = np.copy(H['Output'])\n",
    "print(predict)\n",
    "print(predict.shape)"
   ]
  }
 ],
 "metadata": {
  "anaconda-cloud": {},
  "kernelspec": {
   "display_name": "Python 3",
   "language": "python",
   "name": "python3"
  },
  "language_info": {
   "codemirror_mode": {
    "name": "ipython",
    "version": 3
   },
   "file_extension": ".py",
   "mimetype": "text/x-python",
   "name": "python",
   "nbconvert_exporter": "python",
   "pygments_lexer": "ipython3",
   "version": "3.7.1"
  }
 },
 "nbformat": 4,
 "nbformat_minor": 2
}
